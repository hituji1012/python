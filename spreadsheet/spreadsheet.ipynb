{
 "cells": [
  {
   "cell_type": "markdown",
   "metadata": {},
   "source": [
    "# 【python できること】 Googleスプレッドシートを使ってデータ連携する方法"
   ]
  },
  {
   "cell_type": "markdown",
   "metadata": {},
   "source": [
    "### ライブラリ読み込み"
   ]
  },
  {
   "cell_type": "code",
   "execution_count": 1,
   "metadata": {},
   "outputs": [],
   "source": [
    "import gspread\n",
    "from oauth2client.service_account import ServiceAccountCredentials\n",
    "import csv"
   ]
  },
  {
   "cell_type": "markdown",
   "metadata": {},
   "source": [
    "### 設定"
   ]
  },
  {
   "cell_type": "code",
   "execution_count": 2,
   "metadata": {},
   "outputs": [],
   "source": [
    "# 設定\n",
    "json_file = '***.json'\n",
    "file_name = '***'\n",
    "sheet_name1 = 'シート1'\n",
    "sheet_name2 = 'csv_sheet'\n",
    "csv_file_name = 'Davis.csv'"
   ]
  },
  {
   "cell_type": "markdown",
   "metadata": {},
   "source": [
    "### スプレッドシートにアクセス"
   ]
  },
  {
   "cell_type": "code",
   "execution_count": 3,
   "metadata": {},
   "outputs": [],
   "source": [
    "scope = ['https://spreadsheets.google.com/feeds',\n",
    "         'https://www.googleapis.com/auth/drive']\n",
    "\n",
    "# スプレッドシートにアクセス\n",
    "credentials = ServiceAccountCredentials.from_json_keyfile_name(json_file, scope)\n",
    "gc = gspread.authorize(credentials)\n",
    "sh = gc.open(file_name)"
   ]
  },
  {
   "cell_type": "markdown",
   "metadata": {},
   "source": [
    "### シートの作成と削除"
   ]
  },
  {
   "cell_type": "code",
   "execution_count": 4,
   "metadata": {},
   "outputs": [],
   "source": [
    "# シートの作成\n",
    "wks = sh.add_worksheet(title=\"new worksheet\", rows='100', cols='30')"
   ]
  },
  {
   "cell_type": "code",
   "execution_count": 5,
   "metadata": {},
   "outputs": [
    {
     "data": {
      "text/plain": [
       "{'spreadsheetId': '1opTtfyXuO2SEeUtqy9UtnMLIozfpXoGXcbieqO3bfvU',\n",
       " 'replies': [{}]}"
      ]
     },
     "execution_count": 5,
     "metadata": {},
     "output_type": "execute_result"
    }
   ],
   "source": [
    "# シートの削除\n",
    "sh.del_worksheet(wks)"
   ]
  },
  {
   "cell_type": "markdown",
   "metadata": {},
   "source": [
    "### シートリスト取得\n"
   ]
  },
  {
   "cell_type": "code",
   "execution_count": 6,
   "metadata": {},
   "outputs": [
    {
     "name": "stdout",
     "output_type": "stream",
     "text": [
      "['シート1', 'csv_sheet']\n"
     ]
    }
   ],
   "source": [
    "sheet_list = [ws.title for ws in sh.worksheets()]\n",
    "print(sheet_list)"
   ]
  },
  {
   "cell_type": "markdown",
   "metadata": {},
   "source": [
    "### シートを選択"
   ]
  },
  {
   "cell_type": "code",
   "execution_count": 7,
   "metadata": {},
   "outputs": [],
   "source": [
    "# シートの選択　シートの番号でも名前でもよい\n",
    "wks = sh.get_worksheet(0)\n",
    "wks = sh.worksheet(sheet_name1)"
   ]
  },
  {
   "cell_type": "markdown",
   "metadata": {},
   "source": [
    "### 書き込み"
   ]
  },
  {
   "cell_type": "code",
   "execution_count": 8,
   "metadata": {},
   "outputs": [
    {
     "data": {
      "text/plain": [
       "{'spreadsheetId': '1opTtfyXuO2SEeUtqy9UtnMLIozfpXoGXcbieqO3bfvU',\n",
       " 'updatedRange': \"'シート1'!A2:B3\",\n",
       " 'updatedRows': 2,\n",
       " 'updatedColumns': 2,\n",
       " 'updatedCells': 4}"
      ]
     },
     "execution_count": 8,
     "metadata": {},
     "output_type": "execute_result"
    }
   ],
   "source": [
    "# 単一セル\n",
    "wks.update_acell('A1', '1')\n",
    "wks.update_cell(1, 2, '2')\n",
    "\n",
    "# 複数セル\n",
    "list_data = [[1, 2], [3, 4]]\n",
    "wks.update('A2:B3', list_data)"
   ]
  },
  {
   "cell_type": "code",
   "execution_count": 9,
   "metadata": {},
   "outputs": [
    {
     "data": {
      "text/plain": [
       "{'spreadsheetId': '1opTtfyXuO2SEeUtqy9UtnMLIozfpXoGXcbieqO3bfvU',\n",
       " 'updatedRange': 'csv_sheet!A1:F201',\n",
       " 'updatedRows': 201,\n",
       " 'updatedColumns': 6,\n",
       " 'updatedCells': 1206}"
      ]
     },
     "execution_count": 9,
     "metadata": {},
     "output_type": "execute_result"
    }
   ],
   "source": [
    "# 書き込むシート作成。すでにあれば読み込む\n",
    "if sheet_name2 in sheet_list:\n",
    "    wks = sh.worksheet(sheet_name2)\n",
    "else:\n",
    "    wks = sh.add_worksheet(title=sheet_name2, rows='300', cols='10')\n",
    "# CSVを書き込み\n",
    "wks.update(list(csv.reader(open(csv_file_name, encoding='cp932'))))"
   ]
  },
  {
   "cell_type": "code",
   "execution_count": 10,
   "metadata": {},
   "outputs": [
    {
     "data": {
      "text/plain": [
       "{'spreadsheetId': '1opTtfyXuO2SEeUtqy9UtnMLIozfpXoGXcbieqO3bfvU',\n",
       " 'clearedRange': 'csv_sheet!A1:F300'}"
      ]
     },
     "execution_count": 10,
     "metadata": {},
     "output_type": "execute_result"
    }
   ],
   "source": [
    "# シートデータクリア\n",
    "sh.values_clear(f\"{sheet_name2}!A1:F300\")"
   ]
  },
  {
   "cell_type": "code",
   "execution_count": 11,
   "metadata": {},
   "outputs": [
    {
     "data": {
      "text/plain": [
       "{'spreadsheetId': '1opTtfyXuO2SEeUtqy9UtnMLIozfpXoGXcbieqO3bfvU',\n",
       " 'updatedRange': 'csv_sheet!A1:C3',\n",
       " 'updatedRows': 3,\n",
       " 'updatedColumns': 3,\n",
       " 'updatedCells': 9}"
      ]
     },
     "execution_count": 11,
     "metadata": {},
     "output_type": "execute_result"
    }
   ],
   "source": [
    "# numpy書き込み\n",
    "import numpy as np\n",
    "data = np.array([[1,2,3],[1,2,3],[1,2,3]])\n",
    "wks.update('A1:C3', data.tolist())"
   ]
  },
  {
   "cell_type": "code",
   "execution_count": 12,
   "metadata": {},
   "outputs": [
    {
     "data": {
      "text/plain": [
       "{'spreadsheetId': '1opTtfyXuO2SEeUtqy9UtnMLIozfpXoGXcbieqO3bfvU',\n",
       " 'clearedRange': 'csv_sheet!A1:F300'}"
      ]
     },
     "execution_count": 12,
     "metadata": {},
     "output_type": "execute_result"
    }
   ],
   "source": [
    "# シートデータクリア\n",
    "sh.values_clear(f\"{sheet_name2}!A1:F300\")"
   ]
  },
  {
   "cell_type": "code",
   "execution_count": 13,
   "metadata": {},
   "outputs": [
    {
     "data": {
      "text/plain": [
       "{'spreadsheetId': '1opTtfyXuO2SEeUtqy9UtnMLIozfpXoGXcbieqO3bfvU',\n",
       " 'updatedRange': 'csv_sheet!A1:F201',\n",
       " 'updatedRows': 201,\n",
       " 'updatedColumns': 6,\n",
       " 'updatedCells': 1206}"
      ]
     },
     "execution_count": 13,
     "metadata": {},
     "output_type": "execute_result"
    }
   ],
   "source": [
    "# pandas書き込み\n",
    "import pandas as pd\n",
    "df = pd.read_csv(csv_file_name).fillna('')\n",
    "# 列名とデータを連結して書き込み\n",
    "wks.update([df.columns.values.tolist()] + df.values.tolist())"
   ]
  },
  {
   "cell_type": "markdown",
   "metadata": {},
   "source": [
    "### 読み込み"
   ]
  },
  {
   "cell_type": "code",
   "execution_count": 14,
   "metadata": {},
   "outputs": [
    {
     "name": "stdout",
     "output_type": "stream",
     "text": [
      "1 2\n",
      "[['1', '2'], ['3', '4']]\n"
     ]
    }
   ],
   "source": [
    "wks = sh.worksheet(sheet_name1)\n",
    "# 単一セル\n",
    "val1 = wks.acell('A1').value\n",
    "val2 = wks.cell(1, 2).value\n",
    "\n",
    "print(val1, val2)\n",
    "\n",
    "# 複数セル\n",
    "list_data = wks.get('A2:B3')\n",
    "print(list_data)"
   ]
  },
  {
   "cell_type": "code",
   "execution_count": 15,
   "metadata": {},
   "outputs": [],
   "source": [
    "# pandas\n",
    "wks = sh.worksheet(sheet_name2)\n",
    "df = pd.DataFrame(wks.get_all_records())"
   ]
  },
  {
   "cell_type": "code",
   "execution_count": 16,
   "metadata": {},
   "outputs": [],
   "source": [
    "# numpy\n",
    "wks = sh.worksheet(sheet_name2)\n",
    "array = np.array(wks.get_all_values())"
   ]
  },
  {
   "cell_type": "code",
   "execution_count": null,
   "metadata": {},
   "outputs": [],
   "source": []
  }
 ],
 "metadata": {
  "kernelspec": {
   "display_name": "Python 3",
   "language": "python",
   "name": "python3"
  },
  "language_info": {
   "codemirror_mode": {
    "name": "ipython",
    "version": 3
   },
   "file_extension": ".py",
   "mimetype": "text/x-python",
   "name": "python",
   "nbconvert_exporter": "python",
   "pygments_lexer": "ipython3",
   "version": "3.7.7"
  }
 },
 "nbformat": 4,
 "nbformat_minor": 4
}
