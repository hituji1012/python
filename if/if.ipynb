{
 "cells": [
  {
   "cell_type": "markdown",
   "metadata": {},
   "source": [
    "## 条件分岐 if文について書き方、使い方をマスター\n"
   ]
  },
  {
   "cell_type": "markdown",
   "metadata": {},
   "source": [
    "### Step0.真偽\n",
    "True Falseについて"
   ]
  },
  {
   "cell_type": "code",
   "execution_count": 1,
   "metadata": {},
   "outputs": [
    {
     "name": "stdout",
     "output_type": "stream",
     "text": [
      "Trueの時\n"
     ]
    }
   ],
   "source": [
    "# 処理される\n",
    "if True:\n",
    "    print('Trueの時')\n",
    "    \n",
    "# 処理されない\n",
    "if False:\n",
    "    print('Flaseの時')"
   ]
  },
  {
   "cell_type": "markdown",
   "metadata": {},
   "source": [
    "### Step1 比較演算子\n",
    "\n",
    "\n",
    "[pythonの比較演算子](\"https://docs.python.org/ja/3/reference/expressions.html#comparisons\">:)  \n",
    "\n",
    "|演算子|Trueの時|Falseの時|\n",
    "|---|---|---|\n",
    "|x == y|xとyが等しい|xとyが等しくない|\n",
    "|x > y|xがyより大きい|xがy以下|\n",
    "|x >= y|xがy以上|xがy未満|\n",
    "|x < y|xがy未満|xがy以上|\n",
    "|x <= y|xがy以下|xがyより大きい|\n",
    "|x != y <br> not x == y|xとyが等しくない|xとyが等しい|\n",
    "|x is y|xとyのオブジェクトが同じもの|xとyのオブジェクトが違うもの|\n",
    "|x is not y <br> not x is y|xとyのオブジェクトが違うもの|xとyのオブジェクトが同じもの|\n",
    "|x in y|xがyに含まれている|xがyに含まれていない|\n",
    "|x not in y<br>not x in y|xがyに含まれていない|xがyに含まれている|\n",
    "\n"
   ]
  },
  {
   "cell_type": "code",
   "execution_count": 2,
   "metadata": {},
   "outputs": [
    {
     "name": "stdout",
     "output_type": "stream",
     "text": [
      "aは10です。\n",
      "aは以外です。\n"
     ]
    }
   ],
   "source": [
    "a = 10\n",
    "if a==10:\n",
    "    print('aは10です。')\n",
    "if a!=1:\n",
    "    print('aは以外です。')"
   ]
  },
  {
   "cell_type": "markdown",
   "metadata": {},
   "source": [
    "条件のところを見ることができます。"
   ]
  },
  {
   "cell_type": "code",
   "execution_count": 3,
   "metadata": {},
   "outputs": [
    {
     "name": "stdout",
     "output_type": "stream",
     "text": [
      "True\n"
     ]
    }
   ],
   "source": [
    "print(a==10)"
   ]
  },
  {
   "cell_type": "code",
   "execution_count": 4,
   "metadata": {},
   "outputs": [],
   "source": [
    "a = [10]\n",
    "b = [10]\n",
    "if a is b:\n",
    "    print('aとbは一緒です。')"
   ]
  },
  {
   "cell_type": "code",
   "execution_count": 5,
   "metadata": {},
   "outputs": [
    {
     "name": "stdout",
     "output_type": "stream",
     "text": [
      "aとbは一緒です。\n"
     ]
    }
   ],
   "source": [
    "a = [10]\n",
    "b = a\n",
    "if a is b:\n",
    "    print('aとbは一緒です。')"
   ]
  },
  {
   "cell_type": "markdown",
   "metadata": {},
   "source": [
    "### Step2.基本的書き方\n",
    "条件がTrueとなるときに"
   ]
  },
  {
   "cell_type": "markdown",
   "metadata": {},
   "source": [
    "**if 条件**のみの記述"
   ]
  },
  {
   "cell_type": "code",
   "execution_count": 6,
   "metadata": {},
   "outputs": [
    {
     "name": "stdout",
     "output_type": "stream",
     "text": [
      "aは10未満\n"
     ]
    }
   ],
   "source": [
    "a = 5\n",
    "if a<10:\n",
    "    print('aは10未満')"
   ]
  },
  {
   "cell_type": "markdown",
   "metadata": {},
   "source": [
    "**if 条件 else**の記述"
   ]
  },
  {
   "cell_type": "code",
   "execution_count": 7,
   "metadata": {},
   "outputs": [
    {
     "name": "stdout",
     "output_type": "stream",
     "text": [
      "aは10以上\n"
     ]
    }
   ],
   "source": [
    "# if else\n",
    "a = 11\n",
    "if a<10:\n",
    "    print('aは10未満')\n",
    "else:\n",
    "    print('aは10以上')"
   ]
  },
  {
   "cell_type": "markdown",
   "metadata": {},
   "source": [
    "**if 条件 elif 条件 ... else**の記述  "
   ]
  },
  {
   "cell_type": "code",
   "execution_count": 8,
   "metadata": {},
   "outputs": [
    {
     "name": "stdout",
     "output_type": "stream",
     "text": [
      "aは10未満\n"
     ]
    }
   ],
   "source": [
    "a = 5\n",
    "if a<10:\n",
    "    print('aは10未満')\n",
    "elif a>=10:\n",
    "    print('aは10以上')"
   ]
  },
  {
   "cell_type": "markdown",
   "metadata": {},
   "source": [
    "<font color=\"Red\">注意!</font> 上の条件が優先され、条件文のいずれかの処理しかされない"
   ]
  },
  {
   "cell_type": "code",
   "execution_count": 9,
   "metadata": {},
   "outputs": [
    {
     "name": "stdout",
     "output_type": "stream",
     "text": [
      "aは10未満\n"
     ]
    }
   ],
   "source": [
    "a = 5\n",
    "b = 5\n",
    "if a<10:\n",
    "    print('aは10未満')\n",
    "elif b<10:\n",
    "    print('bは10未満')\n",
    "else:\n",
    "    print('a,bは10以上')"
   ]
  },
  {
   "cell_type": "markdown",
   "metadata": {},
   "source": [
    "<font color=\"Red\">注意!</font> 2つの条件を見る場合はif文を二つ書きましょう"
   ]
  },
  {
   "cell_type": "code",
   "execution_count": 10,
   "metadata": {},
   "outputs": [
    {
     "name": "stdout",
     "output_type": "stream",
     "text": [
      "aは10未満\n",
      "bは10未満\n"
     ]
    }
   ],
   "source": [
    "a = 5\n",
    "b = 5\n",
    "if a<10:\n",
    "    print('aは10未満')\n",
    "if b<10:\n",
    "    print('bは10未満')"
   ]
  },
  {
   "cell_type": "markdown",
   "metadata": {},
   "source": [
    "**ifの入れ子**"
   ]
  },
  {
   "cell_type": "code",
   "execution_count": 11,
   "metadata": {},
   "outputs": [
    {
     "name": "stdout",
     "output_type": "stream",
     "text": [
      "aは10未満で、bも10未満\n"
     ]
    }
   ],
   "source": [
    "a = 5\n",
    "b = 5\n",
    "if a<10:\n",
    "    if b<10:\n",
    "        print('aは10未満で、bも10未満')"
   ]
  },
  {
   "cell_type": "markdown",
   "metadata": {},
   "source": [
    "### Step3 条件を複数使う"
   ]
  },
  {
   "cell_type": "code",
   "execution_count": 12,
   "metadata": {},
   "outputs": [
    {
     "name": "stdout",
     "output_type": "stream",
     "text": [
      "aは10未満で、bも10未満\n"
     ]
    }
   ],
   "source": [
    "a = 5\n",
    "b = 5\n",
    "if (a<10) and (b<10):\n",
    "    print('aは10未満で、bも10未満')"
   ]
  },
  {
   "cell_type": "code",
   "execution_count": 13,
   "metadata": {},
   "outputs": [
    {
     "name": "stdout",
     "output_type": "stream",
     "text": [
      "aは11以上、20未満\n"
     ]
    }
   ],
   "source": [
    "a = 11\n",
    "if a<10:\n",
    "    print('aは10未満')\n",
    "elif (a>=10) and (a<20):\n",
    "    print('aは11以上、20未満')\n",
    "elif (a>=20) and (a<30):\n",
    "    print('aは20以上、30未満')\n",
    "else:\n",
    "    print('aは30以上')"
   ]
  },
  {
   "cell_type": "markdown",
   "metadata": {},
   "source": [
    "### Step4 比較演算子の省略"
   ]
  },
  {
   "cell_type": "markdown",
   "metadata": {},
   "source": [
    "数値の例"
   ]
  },
  {
   "cell_type": "code",
   "execution_count": 14,
   "metadata": {},
   "outputs": [
    {
     "name": "stdout",
     "output_type": "stream",
     "text": [
      "aは0です。\n"
     ]
    }
   ],
   "source": [
    "a = 0\n",
    "if a:\n",
    "    print('aは0ではありません。')\n",
    "else:\n",
    "    print('aは0です。')"
   ]
  },
  {
   "cell_type": "markdown",
   "metadata": {},
   "source": [
    "listの例"
   ]
  },
  {
   "cell_type": "code",
   "execution_count": 15,
   "metadata": {},
   "outputs": [
    {
     "name": "stdout",
     "output_type": "stream",
     "text": [
      "6\n"
     ]
    }
   ],
   "source": [
    "list_data = [1,2,3]\n",
    "if list_data:\n",
    "    print(sum(list_data))\n",
    "else:\n",
    "    print('データ読み込まれていません。')"
   ]
  },
  {
   "cell_type": "markdown",
   "metadata": {},
   "source": [
    "### Step5 1行での記述"
   ]
  },
  {
   "cell_type": "markdown",
   "metadata": {},
   "source": [
    "普通の場合"
   ]
  },
  {
   "cell_type": "code",
   "execution_count": 16,
   "metadata": {},
   "outputs": [
    {
     "name": "stdout",
     "output_type": "stream",
     "text": [
      "陽性\n"
     ]
    }
   ],
   "source": [
    "a = 0.7\n",
    "result = ''\n",
    "if a > 0.5:\n",
    "    result = '陽性'\n",
    "else:\n",
    "    result = '陰性'\n",
    "print(result)"
   ]
  },
  {
   "cell_type": "markdown",
   "metadata": {},
   "source": [
    "1行の場合"
   ]
  },
  {
   "cell_type": "code",
   "execution_count": 17,
   "metadata": {},
   "outputs": [
    {
     "name": "stdout",
     "output_type": "stream",
     "text": [
      "陽性\n"
     ]
    }
   ],
   "source": [
    "a = 0.7\n",
    "result = '陽性' if a > 0.5 else '陰性'\n",
    "print(result)"
   ]
  },
  {
   "cell_type": "markdown",
   "metadata": {},
   "source": [
    "### Step6 passの使い方"
   ]
  },
  {
   "cell_type": "markdown",
   "metadata": {},
   "source": [
    "if文の条件の処理は省略したい場合はpassを使う必要があります。"
   ]
  },
  {
   "cell_type": "code",
   "execution_count": 18,
   "metadata": {},
   "outputs": [
    {
     "ename": "IndentationError",
     "evalue": "expected an indented block (<ipython-input-18-afe74084399f>, line 7)",
     "output_type": "error",
     "traceback": [
      "\u001b[1;36m  File \u001b[1;32m\"<ipython-input-18-afe74084399f>\"\u001b[1;36m, line \u001b[1;32m7\u001b[0m\n\u001b[1;33m    print(result)\u001b[0m\n\u001b[1;37m        ^\u001b[0m\n\u001b[1;31mIndentationError\u001b[0m\u001b[1;31m:\u001b[0m expected an indented block\n"
     ]
    }
   ],
   "source": [
    "a = 0.7\n",
    "result = ''\n",
    "if a > 0.5:\n",
    "    result = '陽性'\n",
    "else:\n",
    "    # 処理検討中\n",
    "print(result)"
   ]
  },
  {
   "cell_type": "code",
   "execution_count": 19,
   "metadata": {},
   "outputs": [
    {
     "name": "stdout",
     "output_type": "stream",
     "text": [
      "陽性\n"
     ]
    }
   ],
   "source": [
    "a = 0.7\n",
    "result = ''\n",
    "if a > 0.5:\n",
    "    result = '陽性'\n",
    "else:\n",
    "    # 処理検討中\n",
    "    pass\n",
    "print(result)"
   ]
  },
  {
   "cell_type": "markdown",
   "metadata": {},
   "source": [
    "### Step7 文字列やlist,tuple"
   ]
  },
  {
   "cell_type": "code",
   "execution_count": 20,
   "metadata": {},
   "outputs": [
    {
     "name": "stdout",
     "output_type": "stream",
     "text": [
      "りんごを含む\n"
     ]
    }
   ],
   "source": [
    "a = 'りんごが食べたい'\n",
    "if 'りんご' in a:\n",
    "    print('りんごを含む')\n",
    "if 'みかん' in a:\n",
    "    print('みかんを含む')"
   ]
  },
  {
   "cell_type": "code",
   "execution_count": 21,
   "metadata": {},
   "outputs": [
    {
     "name": "stdout",
     "output_type": "stream",
     "text": [
      "りんごを含む\n"
     ]
    }
   ],
   "source": [
    "a = ['りんご', 'みかん', 'ぶどう']\n",
    "if 'りんご' in a:\n",
    "    print('りんごを含む')\n",
    "if 'スイカ' in a:\n",
    "    print('スイカを含む')"
   ]
  },
  {
   "cell_type": "markdown",
   "metadata": {},
   "source": [
    "### Step8 関数"
   ]
  },
  {
   "cell_type": "code",
   "execution_count": 22,
   "metadata": {},
   "outputs": [
    {
     "name": "stdout",
     "output_type": "stream",
     "text": [
      "陽性\n"
     ]
    }
   ],
   "source": [
    "def judge(value):\n",
    "    if a > 0.5:\n",
    "        return True\n",
    "    else:\n",
    "        return False\n",
    "    \n",
    "a = 0.7\n",
    "result = ''\n",
    "if judge(a):\n",
    "    result = '陽性'\n",
    "else:\n",
    "    result = '陰性'\n",
    "print(result)"
   ]
  },
  {
   "cell_type": "code",
   "execution_count": null,
   "metadata": {},
   "outputs": [],
   "source": []
  },
  {
   "cell_type": "code",
   "execution_count": null,
   "metadata": {},
   "outputs": [],
   "source": []
  }
 ],
 "metadata": {
  "kernelspec": {
   "display_name": "Python 3",
   "language": "python",
   "name": "python3"
  },
  "language_info": {
   "codemirror_mode": {
    "name": "ipython",
    "version": 3
   },
   "file_extension": ".py",
   "mimetype": "text/x-python",
   "name": "python",
   "nbconvert_exporter": "python",
   "pygments_lexer": "ipython3",
   "version": "3.7.7"
  }
 },
 "nbformat": 4,
 "nbformat_minor": 4
}
