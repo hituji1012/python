{
 "cells": [
  {
   "cell_type": "markdown",
   "metadata": {},
   "source": [
    "## 回数繰り返す"
   ]
  },
  {
   "cell_type": "code",
   "execution_count": 1,
   "metadata": {},
   "outputs": [
    {
     "name": "stdout",
     "output_type": "stream",
     "text": [
      "0\n",
      "1\n",
      "2\n",
      "3\n",
      "4\n"
     ]
    }
   ],
   "source": [
    "# 5回繰り返す\n",
    "for i in range(5):\n",
    "    print(i)"
   ]
  },
  {
   "cell_type": "markdown",
   "metadata": {},
   "source": [
    "## データを繰り返す"
   ]
  },
  {
   "cell_type": "markdown",
   "metadata": {},
   "source": [
    "#### - list, tuple"
   ]
  },
  {
   "cell_type": "code",
   "execution_count": 2,
   "metadata": {},
   "outputs": [
    {
     "name": "stdout",
     "output_type": "stream",
     "text": [
      "10\n",
      "5\n",
      "7\n",
      "8\n",
      "9\n",
      "\n",
      "10\n",
      "5\n",
      "7\n",
      "8\n",
      "9\n"
     ]
    }
   ],
   "source": [
    "# list\n",
    "list_a = [10, 5, 7, 8, 9]\n",
    "for a in list_a:\n",
    "    print(a)\n",
    "    \n",
    "print('')\n",
    "# tuple\n",
    "tuple_a = (10, 5, 7, 8, 9)\n",
    "for a in tuple_a:\n",
    "    print(a)"
   ]
  },
  {
   "cell_type": "code",
   "execution_count": 3,
   "metadata": {},
   "outputs": [
    {
     "name": "stdout",
     "output_type": "stream",
     "text": [
      "70 170\n",
      "65 170\n",
      "80 170\n"
     ]
    }
   ],
   "source": [
    "# list\n",
    "# 2次元分 list > listにする\n",
    "a1 = [70, 170]\n",
    "a2 = [65, 170]\n",
    "a3 = [80, 170]\n",
    "list_a = [a1, a2, a3]\n",
    "for a in list_a:\n",
    "    print(a[0], a[1])"
   ]
  },
  {
   "cell_type": "markdown",
   "metadata": {},
   "source": [
    "#### - dict"
   ]
  },
  {
   "cell_type": "code",
   "execution_count": 4,
   "metadata": {},
   "outputs": [
    {
     "name": "stdout",
     "output_type": "stream",
     "text": [
      "70\n",
      "170\n",
      "Aさん\n",
      "\n",
      "70\n",
      "170\n",
      "Aさん\n"
     ]
    }
   ],
   "source": [
    "dict_a = {\"身長\": 70,\n",
    "          \"体重\": 170,\n",
    "          \"名前\": \"Aさん\"}\n",
    "# keysでループ\n",
    "for key in dict_a.keys():\n",
    "    print(dict_a[key])\n",
    "    \n",
    "print('')\n",
    "# valuesでループ\n",
    "for value in dict_a.values():\n",
    "    print(value)"
   ]
  },
  {
   "cell_type": "markdown",
   "metadata": {},
   "source": [
    "#### -len"
   ]
  },
  {
   "cell_type": "code",
   "execution_count": 5,
   "metadata": {},
   "outputs": [
    {
     "name": "stdout",
     "output_type": "stream",
     "text": [
      "5\n"
     ]
    }
   ],
   "source": [
    "# lenでデータ数を取得\n",
    "list_a = [10, 5, 7, 8, 9]\n",
    "print(len(list_a))"
   ]
  },
  {
   "cell_type": "code",
   "execution_count": 6,
   "metadata": {},
   "outputs": [
    {
     "name": "stdout",
     "output_type": "stream",
     "text": [
      "10\n",
      "5\n",
      "7\n",
      "8\n",
      "9\n"
     ]
    }
   ],
   "source": [
    "# データ数をrangeに入れて使う\n",
    "list_a = [10, 5, 7, 8, 9]\n",
    "for i in range(len(list_a)):\n",
    "    print(list_a[i])"
   ]
  },
  {
   "cell_type": "markdown",
   "metadata": {},
   "source": [
    "#### -numpy"
   ]
  },
  {
   "cell_type": "code",
   "execution_count": 7,
   "metadata": {},
   "outputs": [
    {
     "name": "stdout",
     "output_type": "stream",
     "text": [
      "10\n",
      "5\n",
      "7\n",
      "8\n",
      "9\n"
     ]
    }
   ],
   "source": [
    "import numpy as np\n",
    "np_a = np.array([10, 5, 7, 8, 9])\n",
    "\n",
    "# イテラブルにnumpyを渡す方法\n",
    "for i in np_a:\n",
    "    print(i)"
   ]
  },
  {
   "cell_type": "code",
   "execution_count": 8,
   "metadata": {},
   "outputs": [
    {
     "name": "stdout",
     "output_type": "stream",
     "text": [
      "10\n",
      "5\n",
      "7\n",
      "8\n",
      "9\n"
     ]
    }
   ],
   "source": [
    "# shapeでデータ数を取得する方法\n",
    "for i in range(np_a.shape[0]):\n",
    "    print(np_a[i])"
   ]
  },
  {
   "cell_type": "code",
   "execution_count": 9,
   "metadata": {},
   "outputs": [
    {
     "name": "stdout",
     "output_type": "stream",
     "text": [
      "[ 70 170]\n",
      "[ 65 170]\n",
      "[ 80 170]\n"
     ]
    }
   ],
   "source": [
    "import numpy as np\n",
    "a1 = [70, 170]\n",
    "a2 = [65, 170]\n",
    "a3 = [80, 170]\n",
    "list_a = [a1, a2, a3]\n",
    "np_a = np.array(list_a)\n",
    "for i in np_a:\n",
    "    print(i)"
   ]
  },
  {
   "cell_type": "markdown",
   "metadata": {},
   "source": [
    "#### -pandas"
   ]
  },
  {
   "cell_type": "code",
   "execution_count": 10,
   "metadata": {},
   "outputs": [
    {
     "name": "stdout",
     "output_type": "stream",
     "text": [
      "0 70 170\n",
      "1 65 170\n",
      "2 80 170\n"
     ]
    }
   ],
   "source": [
    "import pandas as pd\n",
    "# 表計算を想定して2次元データを使用\n",
    "a1 = [70, 170]\n",
    "a2 = [65, 170]\n",
    "a3 = [80, 170]\n",
    "list_a = [a1, a2, a3]\n",
    "df = pd.DataFrame(data=list_a)\n",
    "\n",
    "# itterrowsメソッドを使うと、ind: データNo、row: 行データが取得できます。\n",
    "for ind, row in df.iterrows():\n",
    "    print(ind, row[0], row[1])"
   ]
  },
  {
   "cell_type": "markdown",
   "metadata": {},
   "source": [
    "## enumerate -データNoをつけて繰り返す-"
   ]
  },
  {
   "cell_type": "code",
   "execution_count": 11,
   "metadata": {},
   "outputs": [
    {
     "name": "stdout",
     "output_type": "stream",
     "text": [
      "0 10\n",
      "1 5\n",
      "2 7\n",
      "3 8\n",
      "4 9\n"
     ]
    }
   ],
   "source": [
    "# list\n",
    "list_a = [10, 5, 7, 8, 9]\n",
    "\n",
    "# ind: データNo a(変数): データ\n",
    "for ind, a in enumerate(list_a):\n",
    "    print(ind, a)"
   ]
  },
  {
   "cell_type": "markdown",
   "metadata": {},
   "source": [
    "### zip -複数のリストの繰り返し-"
   ]
  },
  {
   "cell_type": "code",
   "execution_count": 12,
   "metadata": {},
   "outputs": [
    {
     "name": "stdout",
     "output_type": "stream",
     "text": [
      "170 70\n",
      "175 65\n",
      "180 80\n"
     ]
    }
   ],
   "source": [
    "# リスト2つを同時に繰り返したい場合\n",
    "list_tall = [170, 175, 180]\n",
    "list_weight = [70, 65, 80]\n",
    "\n",
    "for tall, weight in zip(list_tall, list_weight):\n",
    "    print(tall, weight)"
   ]
  },
  {
   "cell_type": "markdown",
   "metadata": {},
   "source": [
    "### break -for文を途中で抜ける-"
   ]
  },
  {
   "cell_type": "code",
   "execution_count": 13,
   "metadata": {},
   "outputs": [
    {
     "name": "stdout",
     "output_type": "stream",
     "text": [
      "10\n",
      "5\n"
     ]
    }
   ],
   "source": [
    "# list\n",
    "list_a = [10, 5, 7, 8, 9]\n",
    "\n",
    "# データが5の時に抜ける\n",
    "for a in list_a:\n",
    "    print(a)\n",
    "    if a == 5:\n",
    "        break"
   ]
  },
  {
   "cell_type": "markdown",
   "metadata": {},
   "source": [
    "## reversed -データを逆から繰り返す-"
   ]
  },
  {
   "cell_type": "code",
   "execution_count": 14,
   "metadata": {},
   "outputs": [
    {
     "name": "stdout",
     "output_type": "stream",
     "text": [
      "9\n",
      "8\n",
      "7\n",
      "5\n",
      "10\n"
     ]
    }
   ],
   "source": [
    "# list\n",
    "list_a = [10, 5, 7, 8, 9]\n",
    "\n",
    "# データを逆からループ\n",
    "for a in reversed(list_a):\n",
    "    print(a)"
   ]
  },
  {
   "cell_type": "markdown",
   "metadata": {},
   "source": [
    "## else -繰り返し完了後の処理-"
   ]
  },
  {
   "cell_type": "code",
   "execution_count": 15,
   "metadata": {},
   "outputs": [
    {
     "name": "stdout",
     "output_type": "stream",
     "text": [
      "9\n",
      "8\n",
      "7\n",
      "5\n",
      "10\n",
      "完了\n"
     ]
    }
   ],
   "source": [
    "# list\n",
    "list_a = [10, 5, 7, 8, 9]\n",
    "\n",
    "# データを逆からループ\n",
    "for a in reversed(list_a):\n",
    "    print(a)\n",
    "else:\n",
    "    print('完了')"
   ]
  },
  {
   "cell_type": "code",
   "execution_count": null,
   "metadata": {},
   "outputs": [],
   "source": []
  }
 ],
 "metadata": {
  "kernelspec": {
   "display_name": "Python 3",
   "language": "python",
   "name": "python3"
  },
  "language_info": {
   "codemirror_mode": {
    "name": "ipython",
    "version": 3
   },
   "file_extension": ".py",
   "mimetype": "text/x-python",
   "name": "python",
   "nbconvert_exporter": "python",
   "pygments_lexer": "ipython3",
   "version": "3.7.7"
  }
 },
 "nbformat": 4,
 "nbformat_minor": 4
}
