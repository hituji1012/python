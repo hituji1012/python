{
 "cells": [
  {
   "cell_type": "markdown",
   "metadata": {},
   "source": [
    "### 基本的な使い方"
   ]
  },
  {
   "cell_type": "markdown",
   "metadata": {},
   "source": [
    "文字列の出力"
   ]
  },
  {
   "cell_type": "code",
   "execution_count": 1,
   "metadata": {},
   "outputs": [
    {
     "name": "stdout",
     "output_type": "stream",
     "text": [
      "Hello World\n",
      "Hello World\n"
     ]
    }
   ],
   "source": [
    "print('Hello World')\n",
    "print(\"Hello World\")"
   ]
  },
  {
   "cell_type": "code",
   "execution_count": 2,
   "metadata": {},
   "outputs": [
    {
     "name": "stdout",
     "output_type": "stream",
     "text": [
      "Hello World\n"
     ]
    }
   ],
   "source": [
    "a = 'Hello World'\n",
    "print(a)"
   ]
  },
  {
   "cell_type": "markdown",
   "metadata": {},
   "source": [
    "数値の出力"
   ]
  },
  {
   "cell_type": "code",
   "execution_count": 3,
   "metadata": {},
   "outputs": [
    {
     "name": "stdout",
     "output_type": "stream",
     "text": [
      "1234\n"
     ]
    }
   ],
   "source": [
    "a = 1234\n",
    "print(a)"
   ]
  },
  {
   "cell_type": "markdown",
   "metadata": {},
   "source": [
    "list,tuple,dictの表示"
   ]
  },
  {
   "cell_type": "code",
   "execution_count": 4,
   "metadata": {},
   "outputs": [
    {
     "name": "stdout",
     "output_type": "stream",
     "text": [
      "[1, 2, 3]\n",
      "(1, 2, 3)\n",
      "{'a': 1, 'b': 2, 'c': 3}\n"
     ]
    }
   ],
   "source": [
    "# list\n",
    "list_a = [1,2,3]\n",
    "print(list_a)\n",
    "\n",
    "# tuple\n",
    "tuple_a = (1,2,3)\n",
    "print(tuple_a)\n",
    "\n",
    "# dict\n",
    "dict_a = {'a':1, 'b':2, 'c':3}\n",
    "print(dict_a)"
   ]
  },
  {
   "cell_type": "markdown",
   "metadata": {},
   "source": [
    "### 文字のフォーマット"
   ]
  },
  {
   "cell_type": "markdown",
   "metadata": {},
   "source": [
    "#### -フォーマットの種類"
   ]
  },
  {
   "cell_type": "code",
   "execution_count": 5,
   "metadata": {},
   "outputs": [
    {
     "name": "stdout",
     "output_type": "stream",
     "text": [
      "1+2=3\n"
     ]
    }
   ],
   "source": [
    "a = 1\n",
    "b = 2\n",
    "c = 3\n",
    "\n",
    "# %記法\n",
    "print('%d+%d=%d' % (a,b,c))"
   ]
  },
  {
   "cell_type": "markdown",
   "metadata": {},
   "source": [
    "format"
   ]
  },
  {
   "cell_type": "code",
   "execution_count": 6,
   "metadata": {},
   "outputs": [
    {
     "name": "stdout",
     "output_type": "stream",
     "text": [
      "1+2=3\n",
      "1+2=3\n"
     ]
    }
   ],
   "source": [
    "print('{:d}+{:d}={:d}'.format(a,b,c))\n",
    "#書式を省略\n",
    "print('{}+{}={}'.format(a,b,c))"
   ]
  },
  {
   "cell_type": "markdown",
   "metadata": {},
   "source": [
    "f-string"
   ]
  },
  {
   "cell_type": "code",
   "execution_count": 7,
   "metadata": {},
   "outputs": [
    {
     "name": "stdout",
     "output_type": "stream",
     "text": [
      "1+2=3\n",
      "1+2=3\n"
     ]
    }
   ],
   "source": [
    "print(f'{a:d}+{b:d}={c:d}')\n",
    "#書式を省略\n",
    "print(f'{a}+{b}={c}')"
   ]
  },
  {
   "cell_type": "markdown",
   "metadata": {},
   "source": [
    "#### -書式の型の種類"
   ]
  },
  {
   "cell_type": "code",
   "execution_count": 8,
   "metadata": {},
   "outputs": [
    {
     "name": "stdout",
     "output_type": "stream",
     "text": [
      "2進数:1010 8進数:12 10進数:10 16進数:a\n",
      "小数:1.234000 指数表記小数点:1.234000e+00\n",
      "こんにちは\n"
     ]
    }
   ],
   "source": [
    "num = 10\n",
    "print(f'2進数:{num:b} 8進数:{num:o} 10進数:{num:d} 16進数:{num:x}')\n",
    "\n",
    "num = 1.234\n",
    "print(f'小数:{num:f} 指数表記小数点:{num:e}')\n",
    "\n",
    "moji = 'こんにちは'\n",
    "print(f'{moji:s}')"
   ]
  },
  {
   "cell_type": "markdown",
   "metadata": {},
   "source": [
    "#### -色々な書式 整数"
   ]
  },
  {
   "cell_type": "code",
   "execution_count": 9,
   "metadata": {},
   "outputs": [
    {
     "name": "stdout",
     "output_type": "stream",
     "text": [
      "5文字:     3\n",
      "-----ゼロ埋め-------\n",
      "ゼロ埋め: 00003\n",
      "右寄せ: 30000\n",
      "中央寄せ: 00300\n",
      "左寄せ: 00003\n",
      "-----ゼロ埋めなし-------\n",
      "右寄せ: 3    \n",
      "中央寄せ:   3  \n",
      "左寄せ:     3\n"
     ]
    }
   ],
   "source": [
    "num = 3\n",
    "# 5文字にして表示\n",
    "print(f'5文字: {num:5d}')\n",
    "print('-----ゼロ埋め-------')\n",
    "print(f'ゼロ埋め: {num:05d}')\n",
    "print(f'右寄せ: {num:<05d}')\n",
    "print(f'中央寄せ: {num:^05d}')\n",
    "print(f'左寄せ: {num:>05d}')\n",
    "# ゼロ埋めなしでもOK\n",
    "print('-----ゼロ埋めなし-------')\n",
    "print(f'右寄せ: {num:<5d}')\n",
    "print(f'中央寄せ: {num:^5d}')\n",
    "print(f'左寄せ: {num:>5d}')\n"
   ]
  },
  {
   "cell_type": "markdown",
   "metadata": {},
   "source": [
    "#### -色々な書式 小数"
   ]
  },
  {
   "cell_type": "code",
   "execution_count": 10,
   "metadata": {},
   "outputs": [
    {
     "name": "stdout",
     "output_type": "stream",
     "text": [
      "01.23\n",
      "1.23\n"
     ]
    }
   ],
   "source": [
    "num = 1.234\n",
    "print(f'{num:05.2f}')\n",
    "print(f'{num:.2f}')"
   ]
  },
  {
   "cell_type": "markdown",
   "metadata": {},
   "source": [
    "### 応用した使い方"
   ]
  },
  {
   "cell_type": "markdown",
   "metadata": {},
   "source": [
    "#### 区切り文字"
   ]
  },
  {
   "cell_type": "code",
   "execution_count": 11,
   "metadata": {},
   "outputs": [
    {
     "name": "stdout",
     "output_type": "stream",
     "text": [
      "Hello world 2021\n",
      "Hello!! world!! 2021\n"
     ]
    }
   ],
   "source": [
    "print('Hello', 'world', '2021')\n",
    "print('Hello', 'world', '2021', sep='!! ')"
   ]
  },
  {
   "cell_type": "markdown",
   "metadata": {},
   "source": [
    "#### 改行しない"
   ]
  },
  {
   "cell_type": "code",
   "execution_count": 12,
   "metadata": {},
   "outputs": [
    {
     "name": "stdout",
     "output_type": "stream",
     "text": [
      "Hello world 2021"
     ]
    }
   ],
   "source": [
    "print('Hello ', end='')\n",
    "print('world ', end='')\n",
    "print('2021', end='')"
   ]
  },
  {
   "cell_type": "markdown",
   "metadata": {},
   "source": [
    "#### 上書きして表示"
   ]
  },
  {
   "cell_type": "code",
   "execution_count": 13,
   "metadata": {},
   "outputs": [
    {
     "name": "stdout",
     "output_type": "stream",
     "text": [
      "1/5\n",
      "2/5\n",
      "3/5\n",
      "4/5\n",
      "5/5\n"
     ]
    }
   ],
   "source": [
    "import time\n",
    "for i in range(5):\n",
    "    time.sleep(1)\n",
    "    print(f'{i+1}/5')"
   ]
  },
  {
   "cell_type": "code",
   "execution_count": 14,
   "metadata": {},
   "outputs": [
    {
     "name": "stdout",
     "output_type": "stream",
     "text": [
      "5/5"
     ]
    }
   ],
   "source": [
    "import time\n",
    "for i in range(5):\n",
    "    time.sleep(1)\n",
    "    print(f'\\r{i+1}/5', end='')"
   ]
  },
  {
   "cell_type": "markdown",
   "metadata": {},
   "source": [
    "#### ファイル出力"
   ]
  },
  {
   "cell_type": "code",
   "execution_count": 15,
   "metadata": {},
   "outputs": [],
   "source": [
    "with open('print_test.txt', mode='w') as f:\n",
    "    print('Hello world', file=f)"
   ]
  },
  {
   "cell_type": "code",
   "execution_count": null,
   "metadata": {},
   "outputs": [],
   "source": []
  }
 ],
 "metadata": {
  "kernelspec": {
   "display_name": "Python 3",
   "language": "python",
   "name": "python3"
  },
  "language_info": {
   "codemirror_mode": {
    "name": "ipython",
    "version": 3
   },
   "file_extension": ".py",
   "mimetype": "text/x-python",
   "name": "python",
   "nbconvert_exporter": "python",
   "pygments_lexer": "ipython3",
   "version": "3.7.7"
  }
 },
 "nbformat": 4,
 "nbformat_minor": 4
}
